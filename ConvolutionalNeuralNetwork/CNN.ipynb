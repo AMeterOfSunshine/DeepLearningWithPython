{
 "cells": [
  {
   "cell_type": "markdown",
   "metadata": {},
   "source": [
    "# Classify Cat or Dog using Images"
   ]
  },
  {
   "cell_type": "code",
   "execution_count": 6,
   "metadata": {
    "collapsed": false
   },
   "outputs": [
    {
     "name": "stderr",
     "output_type": "stream",
     "text": [
      "Using TensorFlow backend.\n"
     ]
    }
   ],
   "source": [
    "from keras.models import Sequential\n",
    "from keras.layers import Conv2D\n",
    "from keras.layers import MaxPooling2D\n",
    "from keras.layers import Flatten\n",
    "from keras.layers import Dense"
   ]
  },
  {
   "cell_type": "markdown",
   "metadata": {},
   "source": [
    "# Initializing CNN"
   ]
  },
  {
   "cell_type": "code",
   "execution_count": 7,
   "metadata": {
    "collapsed": true
   },
   "outputs": [],
   "source": [
    "classifier = Sequential()"
   ]
  },
  {
   "cell_type": "markdown",
   "metadata": {},
   "source": [
    "# Step 1 - Convolution"
   ]
  },
  {
   "cell_type": "code",
   "execution_count": 8,
   "metadata": {
    "collapsed": true
   },
   "outputs": [],
   "source": [
    "classifier.add(Conv2D(32, (3, 3), input_shape = (64,64,3),activation='relu'))"
   ]
  },
  {
   "cell_type": "markdown",
   "metadata": {},
   "source": [
    "# Step 2 - Pooling"
   ]
  },
  {
   "cell_type": "code",
   "execution_count": 9,
   "metadata": {
    "collapsed": true
   },
   "outputs": [],
   "source": [
    "classifier.add(MaxPooling2D(pool_size=(2,2)))"
   ]
  },
  {
   "cell_type": "markdown",
   "metadata": {},
   "source": [
    "# Step 3 - Flattening"
   ]
  },
  {
   "cell_type": "code",
   "execution_count": 10,
   "metadata": {
    "collapsed": true
   },
   "outputs": [],
   "source": [
    "classifier.add(Flatten())"
   ]
  },
  {
   "cell_type": "markdown",
   "metadata": {},
   "source": [
    "# Step 4 - Full Connection"
   ]
  },
  {
   "cell_type": "code",
   "execution_count": 11,
   "metadata": {
    "collapsed": false
   },
   "outputs": [
    {
     "name": "stderr",
     "output_type": "stream",
     "text": [
      "C:\\Users\\axk169531\\conda\\lib\\site-packages\\ipykernel_launcher.py:1: UserWarning: Update your `Dense` call to the Keras 2 API: `Dense(activation=\"relu\", units=128)`\n",
      "  \"\"\"Entry point for launching an IPython kernel.\n",
      "C:\\Users\\axk169531\\conda\\lib\\site-packages\\ipykernel_launcher.py:2: UserWarning: Update your `Dense` call to the Keras 2 API: `Dense(activation=\"sigmoid\", units=1)`\n",
      "  \n"
     ]
    }
   ],
   "source": [
    "classifier.add(Dense(output_dim= 128 , activation ='relu'))\n",
    "classifier.add(Dense(output_dim= 1 , activation ='sigmoid'))"
   ]
  },
  {
   "cell_type": "code",
   "execution_count": 12,
   "metadata": {
    "collapsed": true
   },
   "outputs": [],
   "source": [
    "classifier.compile(optimizer='adam',loss='binary_crossentropy',metrics=['accuracy'])"
   ]
  },
  {
   "cell_type": "markdown",
   "metadata": {},
   "source": [
    "# Step 5  - Fitting CNN to images"
   ]
  },
  {
   "cell_type": "code",
   "execution_count": 13,
   "metadata": {
    "collapsed": true
   },
   "outputs": [],
   "source": [
    "from keras.preprocessing.image import ImageDataGenerator"
   ]
  },
  {
   "cell_type": "code",
   "execution_count": 14,
   "metadata": {
    "collapsed": false,
    "scrolled": false
   },
   "outputs": [
    {
     "name": "stdout",
     "output_type": "stream",
     "text": [
      "Found 8000 images belonging to 2 classes.\n",
      "Found 2000 images belonging to 2 classes.\n",
      "Epoch 1/25\n",
      "8000/8000 [==============================] - 1513s 189ms/step - loss: 0.4550 - acc: 0.7794 - val_loss: 0.5640 - val_acc: 0.7729\n",
      "Epoch 2/25\n",
      "8000/8000 [==============================] - 1460s 183ms/step - loss: 0.3071 - acc: 0.8651 - val_loss: 0.7549 - val_acc: 0.7629\n",
      "Epoch 3/25\n",
      "8000/8000 [==============================] - 1461s 183ms/step - loss: 0.2239 - acc: 0.9072 - val_loss: 0.9736 - val_acc: 0.7480\n",
      "Epoch 4/25\n",
      "8000/8000 [==============================] - 1463s 183ms/step - loss: 0.1716 - acc: 0.9309 - val_loss: 1.0475 - val_acc: 0.7558\n",
      "Epoch 5/25\n",
      "8000/8000 [==============================] - 1461s 183ms/step - loss: 0.1401 - acc: 0.9452 - val_loss: 1.2204 - val_acc: 0.7529\n",
      "Epoch 6/25\n",
      "8000/8000 [==============================] - 1460s 182ms/step - loss: 0.1148 - acc: 0.9562 - val_loss: 1.2716 - val_acc: 0.7481\n",
      "Epoch 7/25\n",
      "8000/8000 [==============================] - 1460s 183ms/step - loss: 0.0980 - acc: 0.9635 - val_loss: 1.3680 - val_acc: 0.7496\n",
      "Epoch 8/25\n",
      "8000/8000 [==============================] - 1460s 182ms/step - loss: 0.0845 - acc: 0.9691 - val_loss: 1.4860 - val_acc: 0.7380\n",
      "Epoch 9/25\n",
      "8000/8000 [==============================] - 1461s 183ms/step - loss: 0.0760 - acc: 0.9724 - val_loss: 1.7472 - val_acc: 0.7382\n",
      "Epoch 10/25\n",
      "8000/8000 [==============================] - 1459s 182ms/step - loss: 0.0682 - acc: 0.9755 - val_loss: 1.6207 - val_acc: 0.7576\n",
      "Epoch 11/25\n",
      "8000/8000 [==============================] - 1457s 182ms/step - loss: 0.0625 - acc: 0.9777 - val_loss: 1.8072 - val_acc: 0.7490\n",
      "Epoch 12/25\n",
      "8000/8000 [==============================] - 1457s 182ms/step - loss: 0.0582 - acc: 0.9798 - val_loss: 1.5654 - val_acc: 0.7578\n",
      "Epoch 13/25\n",
      "8000/8000 [==============================] - 1458s 182ms/step - loss: 0.0531 - acc: 0.9816 - val_loss: 1.7368 - val_acc: 0.7534\n",
      "Epoch 14/25\n",
      "8000/8000 [==============================] - 1457s 182ms/step - loss: 0.0492 - acc: 0.9831 - val_loss: 1.7399 - val_acc: 0.7461\n",
      "Epoch 15/25\n",
      "8000/8000 [==============================] - 1458s 182ms/step - loss: 0.0453 - acc: 0.9845 - val_loss: 1.7331 - val_acc: 0.7551\n",
      "Epoch 16/25\n",
      "8000/8000 [==============================] - 1459s 182ms/step - loss: 0.0447 - acc: 0.9847 - val_loss: 1.7580 - val_acc: 0.7482\n",
      "Epoch 17/25\n",
      "8000/8000 [==============================] - 1458s 182ms/step - loss: 0.0417 - acc: 0.9855 - val_loss: 1.8596 - val_acc: 0.7435\n",
      "Epoch 18/25\n",
      "8000/8000 [==============================] - 1457s 182ms/step - loss: 0.0408 - acc: 0.9863 - val_loss: 1.7914 - val_acc: 0.7553\n",
      "Epoch 19/25\n",
      "8000/8000 [==============================] - 1459s 182ms/step - loss: 0.0367 - acc: 0.9875 - val_loss: 1.9927 - val_acc: 0.7461\n",
      "Epoch 20/25\n",
      "8000/8000 [==============================] - 1460s 183ms/step - loss: 0.0353 - acc: 0.9882 - val_loss: 1.8740 - val_acc: 0.7516\n",
      "Epoch 21/25\n",
      "8000/8000 [==============================] - 1459s 182ms/step - loss: 0.0343 - acc: 0.9886 - val_loss: 1.9670 - val_acc: 0.7481\n",
      "Epoch 22/25\n",
      "8000/8000 [==============================] - 1460s 182ms/step - loss: 0.0321 - acc: 0.9893 - val_loss: 1.9750 - val_acc: 0.7504\n",
      "Epoch 23/25\n",
      "8000/8000 [==============================] - 1462s 183ms/step - loss: 0.0311 - acc: 0.9896 - val_loss: 2.0682 - val_acc: 0.7474\n",
      "Epoch 24/25\n",
      "8000/8000 [==============================] - 1461s 183ms/step - loss: 0.0291 - acc: 0.9903 - val_loss: 2.0348 - val_acc: 0.7616\n",
      "Epoch 25/25\n",
      "8000/8000 [==============================] - 1462s 183ms/step - loss: 0.0285 - acc: 0.9906 - val_loss: 2.0496 - val_acc: 0.7445\n"
     ]
    },
    {
     "data": {
      "text/plain": [
       "<keras.callbacks.History at 0x14e1add56a0>"
      ]
     },
     "execution_count": 14,
     "metadata": {},
     "output_type": "execute_result"
    }
   ],
   "source": [
    "train_datagen = ImageDataGenerator(\n",
    "        rescale=1./255,\n",
    "        shear_range=0.2,\n",
    "        zoom_range=0.2,\n",
    "        horizontal_flip=True)\n",
    "\n",
    "test_datagen = ImageDataGenerator(rescale=1./255)\n",
    "\n",
    "training_set = train_datagen.flow_from_directory(\n",
    "        'dataset/training_set',\n",
    "        target_size=(64, 64),\n",
    "        batch_size=32,\n",
    "        class_mode='binary')\n",
    "\n",
    "test_set = test_datagen.flow_from_directory(\n",
    "        'dataset/test_set',\n",
    "        target_size=(64, 64),\n",
    "        batch_size=32,\n",
    "        class_mode='binary')\n",
    "\n",
    "classifier.fit_generator(\n",
    "        training_set,\n",
    "        steps_per_epoch=8000,\n",
    "        epochs=25,\n",
    "        validation_data=test_set,\n",
    "        validation_steps=2000)"
   ]
  },
  {
   "cell_type": "markdown",
   "metadata": {},
   "source": [
    "# Parameter tuning"
   ]
  },
  {
   "cell_type": "markdown",
   "metadata": {},
   "source": [
    "# Adding a new Convolution layer"
   ]
  },
  {
   "cell_type": "code",
   "execution_count": 15,
   "metadata": {
    "collapsed": false
   },
   "outputs": [
    {
     "name": "stderr",
     "output_type": "stream",
     "text": [
      "C:\\Users\\axk169531\\conda\\lib\\site-packages\\ipykernel_launcher.py:12: UserWarning: Update your `Dense` call to the Keras 2 API: `Dense(activation=\"relu\", units=128)`\n",
      "  if sys.path[0] == '':\n",
      "C:\\Users\\axk169531\\conda\\lib\\site-packages\\ipykernel_launcher.py:13: UserWarning: Update your `Dense` call to the Keras 2 API: `Dense(activation=\"sigmoid\", units=1)`\n",
      "  del sys.path[0]\n"
     ]
    },
    {
     "name": "stdout",
     "output_type": "stream",
     "text": [
      "Found 8000 images belonging to 2 classes.\n",
      "Found 2000 images belonging to 2 classes.\n",
      "Epoch 1/25\n",
      "8000/8000 [==============================] - 1429s 179ms/step - loss: 0.3441 - acc: 0.8395 - val_loss: 0.6038 - val_acc: 0.8086\n",
      "Epoch 2/25\n",
      "8000/8000 [==============================] - 1424s 178ms/step - loss: 0.0904 - acc: 0.9664 - val_loss: 0.9280 - val_acc: 0.8112\n",
      "Epoch 3/25\n",
      "8000/8000 [==============================] - 1426s 178ms/step - loss: 0.0481 - acc: 0.9830 - val_loss: 1.2044 - val_acc: 0.7994\n",
      "Epoch 4/25\n",
      "8000/8000 [==============================] - 1430s 179ms/step - loss: 0.0345 - acc: 0.9882 - val_loss: 1.3431 - val_acc: 0.7998\n",
      "Epoch 5/25\n",
      "8000/8000 [==============================] - 1427s 178ms/step - loss: 0.0281 - acc: 0.9907 - val_loss: 1.3502 - val_acc: 0.7961\n",
      "Epoch 6/25\n",
      "8000/8000 [==============================] - 1424s 178ms/step - loss: 0.0250 - acc: 0.9919 - val_loss: 1.3577 - val_acc: 0.8086\n",
      "Epoch 7/25\n",
      "8000/8000 [==============================] - 1422s 178ms/step - loss: 0.0214 - acc: 0.9931 - val_loss: 1.5149 - val_acc: 0.7954\n",
      "Epoch 8/25\n",
      "8000/8000 [==============================] - 1426s 178ms/step - loss: 0.0179 - acc: 0.9943 - val_loss: 1.3850 - val_acc: 0.8064\n",
      "Epoch 9/25\n",
      "8000/8000 [==============================] - 1425s 178ms/step - loss: 0.0164 - acc: 0.9946 - val_loss: 1.9054 - val_acc: 0.7731\n",
      "Epoch 10/25\n",
      "8000/8000 [==============================] - 1420s 178ms/step - loss: 0.0149 - acc: 0.9953 - val_loss: 1.5717 - val_acc: 0.8015\n",
      "Epoch 11/25\n",
      "8000/8000 [==============================] - 1425s 178ms/step - loss: 0.0146 - acc: 0.9956 - val_loss: 1.5285 - val_acc: 0.8039\n",
      "Epoch 12/25\n",
      "8000/8000 [==============================] - 1426s 178ms/step - loss: 0.0136 - acc: 0.9957 - val_loss: 1.6335 - val_acc: 0.8042\n",
      "Epoch 13/25\n",
      "8000/8000 [==============================] - 1423s 178ms/step - loss: 0.0122 - acc: 0.9962 - val_loss: 1.6858 - val_acc: 0.7911\n",
      "Epoch 14/25\n",
      "8000/8000 [==============================] - 1425s 178ms/step - loss: 0.0114 - acc: 0.9964 - val_loss: 1.5902 - val_acc: 0.7939\n",
      "Epoch 15/25\n",
      "8000/8000 [==============================] - 1425s 178ms/step - loss: 0.0113 - acc: 0.9966 - val_loss: 1.7312 - val_acc: 0.8079\n",
      "Epoch 16/25\n",
      "8000/8000 [==============================] - 1426s 178ms/step - loss: 0.0101 - acc: 0.9968 - val_loss: 1.7339 - val_acc: 0.8040\n",
      "Epoch 17/25\n",
      "8000/8000 [==============================] - 1422s 178ms/step - loss: 0.0102 - acc: 0.9969 - val_loss: 1.7688 - val_acc: 0.8076\n",
      "Epoch 18/25\n",
      "8000/8000 [==============================] - 1421s 178ms/step - loss: 0.0096 - acc: 0.9971 - val_loss: 1.7724 - val_acc: 0.8018\n",
      "Epoch 19/25\n",
      "8000/8000 [==============================] - 1427s 178ms/step - loss: 0.0096 - acc: 0.9971 - val_loss: 1.7597 - val_acc: 0.7902\n",
      "Epoch 20/25\n",
      "8000/8000 [==============================] - 1426s 178ms/step - loss: 0.0082 - acc: 0.9976 - val_loss: 1.7570 - val_acc: 0.8035\n",
      "Epoch 21/25\n",
      "8000/8000 [==============================] - 1425s 178ms/step - loss: 0.0091 - acc: 0.9974 - val_loss: 1.7635 - val_acc: 0.8038\n",
      "Epoch 22/25\n",
      "8000/8000 [==============================] - 1424s 178ms/step - loss: 0.0085 - acc: 0.9976 - val_loss: 1.7908 - val_acc: 0.8009\n",
      "Epoch 23/25\n",
      "8000/8000 [==============================] - 1429s 179ms/step - loss: 0.0079 - acc: 0.9978 - val_loss: 1.7602 - val_acc: 0.8081\n",
      "Epoch 24/25\n",
      "8000/8000 [==============================] - 1431s 179ms/step - loss: 0.0076 - acc: 0.9978 - val_loss: 1.8535 - val_acc: 0.7986\n",
      "Epoch 25/25\n",
      "8000/8000 [==============================] - 1424s 178ms/step - loss: 0.0078 - acc: 0.9978 - val_loss: 1.7364 - val_acc: 0.8154\n"
     ]
    },
    {
     "data": {
      "text/plain": [
       "<keras.callbacks.History at 0x14e1b2ac2e8>"
      ]
     },
     "execution_count": 15,
     "metadata": {},
     "output_type": "execute_result"
    }
   ],
   "source": [
    "classifier = Sequential()\n",
    "classifier.add(Conv2D(32, (3, 3), input_shape = (64,64,3),activation='relu'))\n",
    "classifier.add(MaxPooling2D(pool_size=(2,2)))\n",
    "\n",
    "# Adding a new convolutional later\n",
    "classifier.add(Conv2D(32, (3, 3),activation='relu'))\n",
    "classifier.add(MaxPooling2D(pool_size=(2,2)))\n",
    "\n",
    "\n",
    "classifier.add(Flatten())\n",
    "\n",
    "classifier.add(Dense(output_dim= 128 , activation ='relu'))\n",
    "classifier.add(Dense(output_dim= 1 , activation ='sigmoid'))\n",
    "\n",
    "classifier.compile(optimizer='adam',loss='binary_crossentropy',metrics=['accuracy'])\n",
    "\n",
    "from keras.preprocessing.image import ImageDataGenerator\n",
    "\n",
    "train_datagen = ImageDataGenerator(\n",
    "        rescale=1./255,\n",
    "        shear_range=0.2,\n",
    "        zoom_range=0.2,\n",
    "        horizontal_flip=True)\n",
    "\n",
    "test_datagen = ImageDataGenerator(rescale=1./255)\n",
    "\n",
    "training_set = train_datagen.flow_from_directory(\n",
    "        'dataset/training_set',\n",
    "        target_size=(64, 64),\n",
    "        batch_size=32,\n",
    "        class_mode='binary')\n",
    "\n",
    "test_set = test_datagen.flow_from_directory(\n",
    "        'dataset/test_set',\n",
    "        target_size=(64, 64),\n",
    "        batch_size=32,\n",
    "        class_mode='binary')\n",
    "\n",
    "classifier.fit_generator(\n",
    "        training_set,\n",
    "        steps_per_epoch=8000,\n",
    "        epochs=25,\n",
    "        validation_data=test_set,\n",
    "        validation_steps=2000)"
   ]
  },
  {
   "cell_type": "code",
   "execution_count": null,
   "metadata": {
    "collapsed": true
   },
   "outputs": [],
   "source": []
  }
 ],
 "metadata": {
  "kernelspec": {
   "display_name": "Python 3",
   "language": "python",
   "name": "python3"
  },
  "language_info": {
   "codemirror_mode": {
    "name": "ipython",
    "version": 3
   },
   "file_extension": ".py",
   "mimetype": "text/x-python",
   "name": "python",
   "nbconvert_exporter": "python",
   "pygments_lexer": "ipython3",
   "version": "3.6.3"
  }
 },
 "nbformat": 4,
 "nbformat_minor": 2
}
